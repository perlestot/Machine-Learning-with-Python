{
  "nbformat": 4,
  "nbformat_minor": 0,
  "metadata": {
    "colab": {
      "name": "Python Lecture Rama.ipynb",
      "version": "0.3.2",
      "provenance": [],
      "include_colab_link": true
    },
    "kernelspec": {
      "name": "python3",
      "display_name": "Python 3"
    }
  },
  "cells": [
    {
      "cell_type": "markdown",
      "metadata": {
        "id": "view-in-github",
        "colab_type": "text"
      },
      "source": [
        "<a href=\"https://colab.research.google.com/github/perlestot/Machine-Learning-with-Python/blob/master/Python_Lecture_Rama.ipynb\" target=\"_parent\"><img src=\"https://colab.research.google.com/assets/colab-badge.svg\" alt=\"Open In Colab\"/></a>"
      ]
    },
    {
      "metadata": {
        "id": "P9WiJc6HodSv",
        "colab_type": "code",
        "colab": {
          "base_uri": "https://localhost:8080/",
          "height": 80
        },
        "outputId": "8ef62271-a910-4d09-eab2-cd805d9b194f"
      },
      "cell_type": "code",
      "source": [
        "text = input('Please input your name: ')\n",
        "print('Your name is: ', text)"
      ],
      "execution_count": 6,
      "outputs": [
        {
          "output_type": "stream",
          "text": [
            "Please input your name: PLoT\n",
            "Your name is:  PLoT\n"
          ],
          "name": "stdout"
        }
      ]
    },
    {
      "metadata": {
        "id": "AUIygPTNzaoR",
        "colab_type": "code",
        "colab": {
          "base_uri": "https://localhost:8080/",
          "height": 34
        },
        "outputId": "a9ebca9c-1962-4290-dac2-c4f34ddd8091"
      },
      "cell_type": "code",
      "source": [
        "type(10.1)"
      ],
      "execution_count": 8,
      "outputs": [
        {
          "output_type": "execute_result",
          "data": {
            "text/plain": [
              "float"
            ]
          },
          "metadata": {
            "tags": []
          },
          "execution_count": 8
        }
      ]
    },
    {
      "metadata": {
        "id": "LgJmO_3jzng7",
        "colab_type": "code",
        "colab": {
          "base_uri": "https://localhost:8080/",
          "height": 34
        },
        "outputId": "d572546e-b175-4556-ba53-61ab3631edbe"
      },
      "cell_type": "code",
      "source": [
        "age = 14\n",
        "type(age)"
      ],
      "execution_count": 9,
      "outputs": [
        {
          "output_type": "execute_result",
          "data": {
            "text/plain": [
              "int"
            ]
          },
          "metadata": {
            "tags": []
          },
          "execution_count": 9
        }
      ]
    },
    {
      "metadata": {
        "id": "3D-JhST8z8gb",
        "colab_type": "code",
        "colab": {
          "base_uri": "https://localhost:8080/",
          "height": 34
        },
        "outputId": "19fc82c8-afae-4bf2-a919-71eda7c32886"
      },
      "cell_type": "code",
      "source": [
        "type('Hello world')"
      ],
      "execution_count": 10,
      "outputs": [
        {
          "output_type": "execute_result",
          "data": {
            "text/plain": [
              "str"
            ]
          },
          "metadata": {
            "tags": []
          },
          "execution_count": 10
        }
      ]
    },
    {
      "metadata": {
        "id": "XCAx7igS0AXF",
        "colab_type": "code",
        "colab": {
          "base_uri": "https://localhost:8080/",
          "height": 51
        },
        "outputId": "146778b0-4006-44a6-9a51-4e350105d8bc"
      },
      "cell_type": "code",
      "source": [
        "X = [1,2]\n",
        "Y = (X)\n",
        "print('Y is ', type(Y))\n",
        "Z = tuple(X)\n",
        "print('Z is ', type(Z))"
      ],
      "execution_count": 15,
      "outputs": [
        {
          "output_type": "stream",
          "text": [
            "Y is  <class 'list'>\n",
            "Z is  <class 'tuple'>\n"
          ],
          "name": "stdout"
        }
      ]
    },
    {
      "metadata": {
        "id": "bNrVWzRQ3K-3",
        "colab_type": "code",
        "colab": {
          "base_uri": "https://localhost:8080/",
          "height": 68
        },
        "outputId": "f728e4b0-a705-421d-f7b4-57778d3e035b"
      },
      "cell_type": "code",
      "source": [
        "gender = ('Female', 'Male')\n",
        "print('gender type is', type(gender))\n",
        "print('gender[0] is', gender[0], '\\ngender[1] is', gender[1])"
      ],
      "execution_count": 24,
      "outputs": [
        {
          "output_type": "stream",
          "text": [
            "gender type is <class 'tuple'>\n",
            "gender[0] is Female \n",
            "gender[1] is Male\n"
          ],
          "name": "stdout"
        }
      ]
    },
    {
      "metadata": {
        "id": "1ALshd4u4PM2",
        "colab_type": "code",
        "colab": {
          "base_uri": "https://localhost:8080/",
          "height": 34
        },
        "outputId": "51a0e0d4-c83f-4f03-f95d-19f56fdd3273"
      },
      "cell_type": "code",
      "source": [
        "tuple_num = (1,1,1,2,2,2,2,3,3,3,4,4,4,4,)\n",
        "tuple_num.count(1)\n"
      ],
      "execution_count": 33,
      "outputs": [
        {
          "output_type": "execute_result",
          "data": {
            "text/plain": [
              "3"
            ]
          },
          "metadata": {
            "tags": []
          },
          "execution_count": 33
        }
      ]
    },
    {
      "metadata": {
        "id": "X9Y7ICeN6ILy",
        "colab_type": "code",
        "colab": {
          "base_uri": "https://localhost:8080/",
          "height": 85
        },
        "outputId": "31d7ac0c-1c11-404d-f8d1-5d47c826ac0a"
      },
      "cell_type": "code",
      "source": [
        "print(tuple_num.index(2))\n",
        "\n",
        "text_name = ('A','B','C','D','E','F')\n",
        "print(\"Index of 'A' is\",text_name.index('A'))\n",
        "print(\"Index of 'C' is\",text_name.index('C'))\n",
        "print(\"Index of 'F' is\",text_name.index('F'))\n"
      ],
      "execution_count": 41,
      "outputs": [
        {
          "output_type": "stream",
          "text": [
            "3\n",
            "Index of 'A' is 0\n",
            "Index of 'C' is 2\n",
            "Index of 'F' is 5\n"
          ],
          "name": "stdout"
        }
      ]
    },
    {
      "metadata": {
        "id": "A8EoenKy6lY1",
        "colab_type": "code",
        "colab": {
          "base_uri": "https://localhost:8080/",
          "height": 51
        },
        "outputId": "52d8d3b5-ca1d-4181-a8fa-58187f6cbb6f"
      },
      "cell_type": "code",
      "source": [
        "print('Lenght of tuple_num', len(tuple_num))\n",
        "print('Lenght of text_name', len(text_name))"
      ],
      "execution_count": 44,
      "outputs": [
        {
          "output_type": "stream",
          "text": [
            "Lenght of tuple_num 14\n",
            "Lenght of text_name 6\n"
          ],
          "name": "stdout"
        }
      ]
    },
    {
      "metadata": {
        "id": "cY9xPLFw-dFH",
        "colab_type": "code",
        "colab": {
          "base_uri": "https://localhost:8080/",
          "height": 85
        },
        "outputId": "6182a9ad-0adb-4229-a13b-01861671f1ef"
      },
      "cell_type": "code",
      "source": [
        "num_1 = (4,6,8,3,6,2,3,1,6,8,0,3,1)\n",
        "print(sorted(num_1),'\\ntype is',type(sorted(num_1)))\n",
        "gender = ('Male','Transgender', 'Female')\n",
        "print(sorted(gender),'\\ntype is',type(sorted(gender)))"
      ],
      "execution_count": 57,
      "outputs": [
        {
          "output_type": "stream",
          "text": [
            "[0, 1, 1, 2, 3, 3, 3, 4, 6, 6, 6, 8, 8] \n",
            "type is <class 'list'>\n",
            "['Female', 'Male', 'Transgender'] \n",
            "type is <class 'list'>\n"
          ],
          "name": "stdout"
        }
      ]
    },
    {
      "metadata": {
        "id": "nRFVfPoN_DJg",
        "colab_type": "code",
        "colab": {
          "base_uri": "https://localhost:8080/",
          "height": 34
        },
        "outputId": "f634d1cc-b6a6-47d6-ca90-591ca3a2168a"
      },
      "cell_type": "code",
      "source": [
        "type(sorted)"
      ],
      "execution_count": 52,
      "outputs": [
        {
          "output_type": "execute_result",
          "data": {
            "text/plain": [
              "builtin_function_or_method"
            ]
          },
          "metadata": {
            "tags": []
          },
          "execution_count": 52
        }
      ]
    },
    {
      "metadata": {
        "id": "Kn_2erVO_JA4",
        "colab_type": "code",
        "colab": {
          "base_uri": "https://localhost:8080/",
          "height": 34
        },
        "outputId": "46806664-9db3-4eef-a77d-f7c8678bac5d"
      },
      "cell_type": "code",
      "source": [
        "list_1 = list(num_1)\n",
        "list_1"
      ],
      "execution_count": 60,
      "outputs": [
        {
          "output_type": "execute_result",
          "data": {
            "text/plain": [
              "[4, 6, 8, 3, 6, 2, 3, 1, 6, 8, 0, 3, 1]"
            ]
          },
          "metadata": {
            "tags": []
          },
          "execution_count": 60
        }
      ]
    },
    {
      "metadata": {
        "id": "70FkRPm3A5gz",
        "colab_type": "code",
        "colab": {
          "base_uri": "https://localhost:8080/",
          "height": 136
        },
        "outputId": "63575415-34ca-4e5b-cb0b-e699bef0ace8"
      },
      "cell_type": "code",
      "source": [
        "print('Summation', sum(list_1))\n",
        "print('Maximum', max(list_1))\n",
        "print('Minimum', min(list_1))\n",
        "print('sort', sorted(list_1))\n",
        "print('Lenght', len(list_1))\n",
        "\n",
        "print('Index', list_1.index(8))\n",
        "print('Count', list_1.count(6))"
      ],
      "execution_count": 81,
      "outputs": [
        {
          "output_type": "stream",
          "text": [
            "Summation 51\n",
            "Maximum 8\n",
            "Minimum 0\n",
            "sort [0, 1, 1, 2, 3, 3, 3, 4, 6, 6, 6, 8, 8]\n",
            "Lenght 13\n",
            "Index 2\n",
            "Count 3\n"
          ],
          "name": "stdout"
        }
      ]
    },
    {
      "metadata": {
        "id": "f6XhXNm4BcAq",
        "colab_type": "code",
        "colab": {
          "base_uri": "https://localhost:8080/",
          "height": 51
        },
        "outputId": "fad4a489-29f8-4054-c379-419e3523c478"
      },
      "cell_type": "code",
      "source": [
        "text_2 = ['001','002','002','003','003']\n",
        "print('At first, text_2 is ', text_2)\n",
        "text_2.append('004')\n",
        "print('After that, text_2 is ', text_2)"
      ],
      "execution_count": 82,
      "outputs": [
        {
          "output_type": "stream",
          "text": [
            "At first, text_2 is  ['001', '002', '002', '003', '003']\n",
            "After that, text_2 is  ['001', '002', '002', '003', '003', '004']\n"
          ],
          "name": "stdout"
        }
      ]
    },
    {
      "metadata": {
        "id": "tEHDBmfRDLfT",
        "colab_type": "code",
        "colab": {
          "base_uri": "https://localhost:8080/",
          "height": 51
        },
        "outputId": "11928cf9-d8de-4993-d372-accbfe718370"
      },
      "cell_type": "code",
      "source": [
        "text_2 = ['001', '002', '002', '003', '003', '004']\n",
        "text_2.insert(0,'005')\n",
        "print(\"Insert '005' at index[0]\",text_2)\n",
        "text_2.insert(text_2.index('003'),'006')\n",
        "print(\"Insert by searching index\", text_2)"
      ],
      "execution_count": 94,
      "outputs": [
        {
          "output_type": "stream",
          "text": [
            "Insert '005' at index[0] ['005', '001', '002', '002', '003', '003', '004']\n",
            "Insert by searching index ['005', '001', '002', '002', '006', '003', '003', '004']\n"
          ],
          "name": "stdout"
        }
      ]
    },
    {
      "metadata": {
        "id": "My07ylMXENOZ",
        "colab_type": "code",
        "colab": {
          "base_uri": "https://localhost:8080/",
          "height": 34
        },
        "outputId": "9c0a4835-fd26-4e1c-988e-1837aa6789c3"
      },
      "cell_type": "code",
      "source": [
        "text_2 = ['001', '002', '002', '003', '003', '004']\n",
        "text_2.remove('003')\n",
        "text_2"
      ],
      "execution_count": 96,
      "outputs": [
        {
          "output_type": "execute_result",
          "data": {
            "text/plain": [
              "['001', '002', '002', '003', '004']"
            ]
          },
          "metadata": {
            "tags": []
          },
          "execution_count": 96
        }
      ]
    },
    {
      "metadata": {
        "id": "TSXrN2_DEiaD",
        "colab_type": "code",
        "colab": {
          "base_uri": "https://localhost:8080/",
          "height": 85
        },
        "outputId": "718b5e19-a37a-4bf3-ba04-7573f92f4e91"
      },
      "cell_type": "code",
      "source": [
        "P_name ={'First Name': 'Parin', 'Last Name':'Kittipongdaja','Age': 28, 'Education':['Chulalongkorn','Mahidol']}\n",
        "P_name"
      ],
      "execution_count": 108,
      "outputs": [
        {
          "output_type": "execute_result",
          "data": {
            "text/plain": [
              "{'Age': 28,\n",
              " 'Education': ['Chulalongkorn', 'Mahidol'],\n",
              " 'First Name': 'Parin',\n",
              " 'Last Name': 'Kittipongdaja'}"
            ]
          },
          "metadata": {
            "tags": []
          },
          "execution_count": 108
        }
      ]
    },
    {
      "metadata": {
        "id": "hawgzXytFX6O",
        "colab_type": "code",
        "colab": {
          "base_uri": "https://localhost:8080/",
          "height": 85
        },
        "outputId": "613d7d99-2aa5-4241-9dd6-1e989422130e"
      },
      "cell_type": "code",
      "source": [
        "keys = ['First Name', 'Last Name', 'Age', 'Education']\n",
        "values = ['Parin', 'Kittipongdaja', 28, ['Chulalongkorn','Mahidol']]\n",
        "Z = dict(zip(keys,values))\n",
        "Z"
      ],
      "execution_count": 106,
      "outputs": [
        {
          "output_type": "execute_result",
          "data": {
            "text/plain": [
              "{'Age': 28,\n",
              " 'Education': ['Chulalongkorn', 'Mahidol'],\n",
              " 'First Name': 'Parin',\n",
              " 'Last Name': 'Kittipongdaja'}"
            ]
          },
          "metadata": {
            "tags": []
          },
          "execution_count": 106
        }
      ]
    },
    {
      "metadata": {
        "id": "Aiyce5mUFq9h",
        "colab_type": "code",
        "colab": {
          "base_uri": "https://localhost:8080/",
          "height": 85
        },
        "outputId": "a4b05548-4149-40fe-d924-ad3de7678415"
      },
      "cell_type": "code",
      "source": [
        "print(P_name['First Name'])\n",
        "print(P_name['Last Name'])\n",
        "print(P_name['Age'])\n",
        "print(P_name['Education'])"
      ],
      "execution_count": 109,
      "outputs": [
        {
          "output_type": "stream",
          "text": [
            "Parin\n",
            "Kittipongdaja\n",
            "28\n",
            "['Chulalongkorn', 'Mahidol']\n"
          ],
          "name": "stdout"
        }
      ]
    },
    {
      "metadata": {
        "id": "MNfnfBL9GRh1",
        "colab_type": "code",
        "colab": {
          "base_uri": "https://localhost:8080/",
          "height": 176
        },
        "outputId": "0b1e132b-141f-4bd2-f847-9d0bd8c2ecc2"
      },
      "cell_type": "code",
      "source": [
        "print(P_name.keys())\n",
        "print(list(P_name.keys()))\n",
        "print(P_name.values())\n",
        "print(list(P_name.values()))\n",
        "print(len(P_name))\n",
        "P_name['Height'] = 181\n",
        "print(P_name)\n",
        "del P_name['Height']\n",
        "print(P_name)"
      ],
      "execution_count": 125,
      "outputs": [
        {
          "output_type": "stream",
          "text": [
            "dict_keys(['First Name', 'Last Name', 'Age', 'Education'])\n",
            "['First Name', 'Last Name', 'Age', 'Education']\n",
            "dict_values(['Parin', 'Kittipongdaja', 28, ['Chulalongkorn', 'Mahidol']])\n",
            "['Parin', 'Kittipongdaja', 28, ['Chulalongkorn', 'Mahidol']]\n",
            "4\n",
            "{'First Name': 'Parin', 'Last Name': 'Kittipongdaja', 'Age': 28, 'Education': ['Chulalongkorn', 'Mahidol'], 'Height': 181}\n",
            "{'First Name': 'Parin', 'Last Name': 'Kittipongdaja', 'Age': 28, 'Education': ['Chulalongkorn', 'Mahidol']}\n"
          ],
          "name": "stdout"
        }
      ]
    },
    {
      "metadata": {
        "id": "auHHBAuIHzL6",
        "colab_type": "code",
        "colab": {
          "base_uri": "https://localhost:8080/",
          "height": 374
        },
        "outputId": "576f013e-3007-4141-f309-6772cf918385"
      },
      "cell_type": "code",
      "source": [
        "whos"
      ],
      "execution_count": 149,
      "outputs": [
        {
          "output_type": "stream",
          "text": [
            "Variable    Type     Data/Info\n",
            "------------------------------\n",
            "P_name      dict     n=4\n",
            "X           list     n=2\n",
            "Y           list     n=2\n",
            "Z           dict     n=4\n",
            "age         int      14\n",
            "fset_num    list     n=4\n",
            "gender      tuple    n=3\n",
            "i           int      4\n",
            "keys        list     n=4\n",
            "list_1      list     n=13\n",
            "list_num    list     n=14\n",
            "new_list    list     n=4\n",
            "num_1       tuple    n=13\n",
            "set_num     set      {1, 2, 3, 4}\n",
            "text        str      PLoT\n",
            "text_2      list     n=5\n",
            "text_name   tuple    n=6\n",
            "tuple_num   tuple    n=14\n",
            "values      list     n=4\n"
          ],
          "name": "stdout"
        }
      ]
    },
    {
      "metadata": {
        "id": "dRdyDOA0H8gg",
        "colab_type": "code",
        "colab": {
          "base_uri": "https://localhost:8080/",
          "height": 85
        },
        "outputId": "f3506a4e-3485-497c-f0e9-b3db1226541b"
      },
      "cell_type": "code",
      "source": [
        "list_num = [1, 1, 1, 2, 2, 2, 2, 3, 3, 3, 4, 4, 4, 4]\n",
        "print('list_num: ',list_num)\n",
        "set_num = set(list_num)\n",
        "print('set_num: ', set_num)\n",
        "fset_num = list(set_num)\n",
        "print('Force to list', fset_num)\n",
        "print(len(set_num))"
      ],
      "execution_count": 184,
      "outputs": [
        {
          "output_type": "stream",
          "text": [
            "list_num:  [1, 1, 1, 2, 2, 2, 2, 3, 3, 3, 4, 4, 4, 4]\n",
            "set_num:  {1, 2, 3, 4}\n",
            "Force to list [1, 2, 3, 4]\n",
            "4\n"
          ],
          "name": "stdout"
        }
      ]
    },
    {
      "metadata": {
        "id": "ZGRl3uWDJO7o",
        "colab_type": "code",
        "colab": {
          "base_uri": "https://localhost:8080/",
          "height": 34
        },
        "outputId": "b9aec322-387f-4d71-a01b-10494348fcf6"
      },
      "cell_type": "code",
      "source": [
        "1 in list_num"
      ],
      "execution_count": 144,
      "outputs": [
        {
          "output_type": "execute_result",
          "data": {
            "text/plain": [
              "True"
            ]
          },
          "metadata": {
            "tags": []
          },
          "execution_count": 144
        }
      ]
    },
    {
      "metadata": {
        "id": "_CDIV1VQJS-p",
        "colab_type": "code",
        "colab": {
          "base_uri": "https://localhost:8080/",
          "height": 51
        },
        "outputId": "09deb469-e587-4083-9349-5d8d0c35ff39"
      },
      "cell_type": "code",
      "source": [
        "print('list_num: ',list_num)\n",
        "new_list = []\n",
        "for i in list_num:\n",
        "  if i in new_list:\n",
        "    pass\n",
        "  else:\n",
        "    new_list.append(i)\n",
        "    \n",
        "print('new_list: ',new_list)"
      ],
      "execution_count": 150,
      "outputs": [
        {
          "output_type": "stream",
          "text": [
            "list_num:  [1, 1, 1, 2, 2, 2, 2, 3, 3, 3, 4, 4, 4, 4]\n",
            "new_list:  [1, 2, 3, 4]\n"
          ],
          "name": "stdout"
        }
      ]
    },
    {
      "metadata": {
        "id": "37jxTlB3MqYk",
        "colab_type": "code",
        "colab": {
          "base_uri": "https://localhost:8080/",
          "height": 68
        },
        "outputId": "5db10ea3-1eba-4a08-bea8-6ef0a0a9f1c4"
      },
      "cell_type": "code",
      "source": [
        "import numpy as np\n",
        "\n",
        "items = (1,2,3,4,5,6)\n",
        "sample = np.random.choice(items, 3, replace = True)\n",
        "'''Draw from uniform distribution'''\n",
        "print(sample)\n",
        "print(type(sample))\n",
        "sample[0]\n",
        "print(type(int(sample[0])))"
      ],
      "execution_count": 192,
      "outputs": [
        {
          "output_type": "stream",
          "text": [
            "[1 2 2]\n",
            "<class 'numpy.ndarray'>\n",
            "<class 'int'>\n"
          ],
          "name": "stdout"
        }
      ]
    },
    {
      "metadata": {
        "id": "J2geryBvNSn7",
        "colab_type": "code",
        "colab": {
          "base_uri": "https://localhost:8080/",
          "height": 376
        },
        "outputId": "ba68ad11-2a44-44a7-9395-5698d3da6f38"
      },
      "cell_type": "code",
      "source": [
        "import matplotlib.pyplot as plt\n",
        "\n",
        "x = [1,2,3,4,5]\n",
        "y = [10,15,12,20,18]\n",
        "plt.bar(x,y)\n",
        "plt.title(\"Bar chart\")\n",
        "plt.xlabel(\"X-axis\")\n",
        "plt.ylabel(\"Y-axis\")\n",
        "plt.show()"
      ],
      "execution_count": 160,
      "outputs": [
        {
          "output_type": "display_data",
          "data": {
            "image/png": "[encoded data removed]",
            "text/plain": [
              "<matplotlib.figure.Figure at 0x7f4c4206f518>"
            ]
          },
          "metadata": {
            "tags": []
          }
        }
      ]
    },
    {
      "metadata": {
        "id": "l9hSmFN1NvRU",
        "colab_type": "code",
        "colab": {
          "base_uri": "https://localhost:8080/",
          "height": 376
        },
        "outputId": "8721bd93-3287-43a6-ef53-33e89482c0d7"
      },
      "cell_type": "code",
      "source": [
        "plt.plot(x,y)\n",
        "plt.title(\"Line chart\")\n",
        "plt.xlabel(\"X-axis\")\n",
        "plt.ylabel(\"Y-axis\")\n",
        "plt.show()"
      ],
      "execution_count": 163,
      "outputs": [
        {
          "output_type": "display_data",
          "data": {
            "image/png": "[encoded data removed]",
            "text/plain": [
              "<matplotlib.figure.Figure at 0x7f4c41f3e6d8>"
            ]
          },
          "metadata": {
            "tags": []
          }
        }
      ]
    },
    {
      "metadata": {
        "id": "jmDvm-ycN-IW",
        "colab_type": "code",
        "colab": {
          "base_uri": "https://localhost:8080/",
          "height": 376
        },
        "outputId": "4bc39bd4-42df-49f9-ac11-a840a4c4f02b"
      },
      "cell_type": "code",
      "source": [
        "plt.scatter(x,y)\n",
        "plt.title(\"Scatter plot\")\n",
        "plt.xlabel(\"X-axis\")\n",
        "plt.ylabel(\"Y-axis\")\n",
        "plt.show()"
      ],
      "execution_count": 166,
      "outputs": [
        {
          "output_type": "display_data",
          "data": {
            "image/png": "[encoded data removed]",
            "text/plain": [
              "<matplotlib.figure.Figure at 0x7f4c44a39860>"
            ]
          },
          "metadata": {
            "tags": []
          }
        }
      ]
    },
    {
      "metadata": {
        "id": "Pktzvtr1PeAt",
        "colab_type": "code",
        "colab": {
          "base_uri": "https://localhost:8080/",
          "height": 142
        },
        "outputId": "e3a19630-feae-4be2-a472-ee6c843d63a0"
      },
      "cell_type": "code",
      "source": [
        "BNK48 = tuple(range(1,49)\n",
        "#print(BNK48, len(BNK48))\n",
        "\n",
        "import numpy as np\n",
        "\n",
        "\n",
        "#print(sample)\n",
        "\n",
        "list_count = []\n",
        "for i in range(5):\n",
        "  buy_set = set()\n",
        "  count = 0\n",
        "  while len(buy_set) < 48:\n",
        "    sample = np.random.choice(BNK48, 1, replace = True)\n",
        "    buy_set.add(int(sample))\n",
        "    count += 1\n",
        "  list_count.append(count)\n",
        "  \n",
        "print(buy_set, '\\ncount: ',count, '\\nlist_count', list_count)\n",
        "print('Average:', np.mean(list_count), '\\nTotal cost: ', np.mean(list_count)*5)"
      ],
      "execution_count": 232,
      "outputs": [
        {
          "output_type": "stream",
          "text": [
            "{0, 1, 2, 3, 4, 5, 6, 7, 8, 9, 10, 11, 12, 13, 14, 15, 16, 17, 18, 19, 20, 21, 22, 23, 24, 25, 26, 27, 28, 29, 30, 31, 32, 33, 34, 35, 36, 37, 38, 39, 40, 41, 42, 43, 44, 45, 46, 47} \n",
            "count:  208 \n",
            "list_count [156, 352, 129, 402, 208]\n",
            "Average: 249.4 \n",
            "Total cost:  1247.0\n"
          ],
          "name": "stdout"
        }
      ]
    },
    {
      "metadata": {
        "id": "k8bTyL5iSKEG",
        "colab_type": "code",
        "colab": {
          "base_uri": "https://localhost:8080/",
          "height": 74
        },
        "outputId": "303b4a1b-19cc-49b7-bc09-5991873a82ce"
      },
      "cell_type": "code",
      "source": [
        "BNK48 = tuple(range(48))\n",
        "print(BNK48, len(BNK48))"
      ],
      "execution_count": 186,
      "outputs": [
        {
          "output_type": "stream",
          "text": [
            "(0, 1, 2, 3, 4, 5, 6, 7, 8, 9, 10, 11, 12, 13, 14, 15, 16, 17, 18, 19, 20, 21, 22, 23, 24, 25, 26, 27, 28, 29, 30, 31, 32, 33, 34, 35, 36, 37, 38, 39, 40, 41, 42, 43, 44, 45, 46, 47) 48\n"
          ],
          "name": "stdout"
        }
      ]
    },
    {
      "metadata": {
        "id": "HLj90sAqRKSh",
        "colab_type": "code",
        "colab": {
          "base_uri": "https://localhost:8080/",
          "height": 34
        },
        "outputId": "c4099128-cfd0-4490-96bf-9377ee4e2dc4"
      },
      "cell_type": "code",
      "source": [
        "ddd = set()\n",
        "ddd.add(1)\n",
        "ddd"
      ],
      "execution_count": 178,
      "outputs": [
        {
          "output_type": "execute_result",
          "data": {
            "text/plain": [
              "{1}"
            ]
          },
          "metadata": {
            "tags": []
          },
          "execution_count": 178
        }
      ]
    },
    {
      "metadata": {
        "id": "hA6-dTaCW005",
        "colab_type": "code",
        "colab": {
          "base_uri": "https://localhost:8080/",
          "height": 867
        },
        "outputId": "95c40b05-ac40-4b3a-d0ff-5eb2895b4857"
      },
      "cell_type": "code",
      "source": [
        "BNK48 = tuple(range(48))\n",
        "#print(BNK48, len(BNK48))\n",
        "\n",
        "import numpy as np\n",
        "\n",
        "sample = np.random.choice(BNK48, 1, replace = True)\n",
        "#print(sample)\n",
        "\n",
        "buy_set = set()\n",
        "count = 0\n",
        "for i in range(48):\n",
        "  sample = np.random.choice(BNK48, 1, replace = True)\n",
        "  buy_set.add(int(sample))\n",
        "  print(buy_set)\n",
        "  count += 1\n",
        "  \n",
        "print(buy_set, '\\ncount: ',count)"
      ],
      "execution_count": 207,
      "outputs": [
        {
          "output_type": "stream",
          "text": [
            "{9}\n",
            "{9, 42}\n",
            "{9, 42, 31}\n",
            "{9, 42, 31}\n",
            "{9, 42, 3, 31}\n",
            "{3, 36, 9, 42, 31}\n",
            "{3, 36, 39, 9, 42, 31}\n",
            "{3, 36, 39, 8, 9, 42, 31}\n",
            "{3, 36, 39, 8, 9, 42, 45, 31}\n",
            "{3, 36, 39, 8, 9, 42, 45, 22, 31}\n",
            "{3, 36, 4, 39, 8, 9, 42, 45, 22, 31}\n",
            "{3, 36, 4, 39, 8, 9, 42, 41, 45, 22, 31}\n",
            "{3, 36, 4, 39, 8, 9, 42, 41, 45, 22, 27, 31}\n",
            "{3, 36, 4, 39, 8, 9, 42, 41, 45, 22, 27, 29, 31}\n",
            "{1, 3, 36, 4, 39, 8, 9, 42, 41, 45, 22, 27, 29, 31}\n",
            "{1, 3, 36, 4, 39, 8, 9, 42, 41, 45, 22, 27, 29, 30, 31}\n",
            "{1, 3, 36, 4, 39, 8, 9, 42, 41, 45, 17, 22, 27, 29, 30, 31}\n",
            "{0, 1, 3, 36, 4, 39, 8, 9, 42, 41, 45, 17, 22, 27, 29, 30, 31}\n",
            "{0, 1, 3, 36, 4, 39, 8, 9, 42, 41, 45, 17, 22, 27, 29, 30, 31}\n",
            "{0, 1, 3, 36, 4, 39, 8, 9, 42, 41, 45, 17, 20, 22, 27, 29, 30, 31}\n",
            "{0, 1, 3, 36, 4, 39, 8, 9, 42, 41, 45, 13, 17, 20, 22, 27, 29, 30, 31}\n",
            "{0, 1, 3, 36, 4, 39, 8, 9, 42, 41, 45, 13, 17, 20, 21, 22, 27, 29, 30, 31}\n",
            "{0, 1, 3, 36, 4, 39, 8, 9, 42, 41, 45, 13, 17, 20, 21, 22, 27, 29, 30, 31}\n",
            "{0, 1, 3, 4, 8, 9, 13, 17, 20, 21, 22, 27, 29, 30, 31, 36, 38, 39, 41, 42, 45}\n",
            "{0, 1, 3, 4, 8, 9, 13, 17, 20, 21, 22, 27, 29, 30, 31, 36, 38, 39, 41, 42, 45}\n",
            "{0, 1, 3, 4, 8, 9, 13, 17, 20, 21, 22, 25, 27, 29, 30, 31, 36, 38, 39, 41, 42, 45}\n",
            "{0, 1, 3, 4, 8, 9, 13, 17, 20, 21, 22, 25, 27, 29, 30, 31, 36, 38, 39, 41, 42, 45}\n",
            "{0, 1, 3, 4, 8, 9, 13, 17, 20, 21, 22, 25, 27, 29, 30, 31, 35, 36, 38, 39, 41, 42, 45}\n",
            "{0, 1, 3, 4, 8, 9, 13, 17, 18, 20, 21, 22, 25, 27, 29, 30, 31, 35, 36, 38, 39, 41, 42, 45}\n",
            "{0, 1, 3, 4, 8, 9, 12, 13, 17, 18, 20, 21, 22, 25, 27, 29, 30, 31, 35, 36, 38, 39, 41, 42, 45}\n",
            "{0, 1, 3, 4, 8, 9, 12, 13, 17, 18, 20, 21, 22, 25, 27, 29, 30, 31, 35, 36, 38, 39, 41, 42, 45}\n",
            "{0, 1, 3, 4, 8, 9, 12, 13, 17, 18, 20, 21, 22, 25, 27, 29, 30, 31, 35, 36, 38, 39, 41, 42, 45}\n",
            "{0, 1, 3, 4, 8, 9, 12, 13, 17, 18, 20, 21, 22, 25, 27, 29, 30, 31, 35, 36, 38, 39, 41, 42, 45}\n",
            "{0, 1, 3, 4, 8, 9, 12, 13, 17, 18, 20, 21, 22, 25, 27, 29, 30, 31, 35, 36, 38, 39, 41, 42, 45}\n",
            "{0, 1, 3, 4, 8, 9, 12, 13, 17, 18, 20, 21, 22, 25, 27, 29, 30, 31, 35, 36, 38, 39, 41, 42, 45}\n",
            "{0, 1, 3, 4, 8, 9, 12, 13, 17, 18, 20, 21, 22, 25, 27, 29, 30, 31, 35, 36, 38, 39, 41, 42, 45}\n",
            "{0, 1, 3, 4, 8, 9, 12, 13, 17, 18, 20, 21, 22, 25, 27, 29, 30, 31, 35, 36, 38, 39, 41, 42, 45}\n",
            "{0, 1, 3, 4, 7, 8, 9, 12, 13, 17, 18, 20, 21, 22, 25, 27, 29, 30, 31, 35, 36, 38, 39, 41, 42, 45}\n",
            "{0, 1, 3, 4, 7, 8, 9, 12, 13, 17, 18, 20, 21, 22, 25, 27, 29, 30, 31, 35, 36, 38, 39, 41, 42, 45}\n",
            "{0, 1, 3, 4, 7, 8, 9, 12, 13, 17, 18, 20, 21, 22, 25, 27, 29, 30, 31, 35, 36, 38, 39, 41, 42, 45}\n",
            "{0, 1, 3, 4, 7, 8, 9, 12, 13, 17, 18, 20, 21, 22, 25, 27, 29, 30, 31, 35, 36, 38, 39, 41, 42, 44, 45}\n",
            "{0, 1, 3, 4, 7, 8, 9, 12, 13, 17, 18, 20, 21, 22, 23, 25, 27, 29, 30, 31, 35, 36, 38, 39, 41, 42, 44, 45}\n",
            "{0, 1, 3, 4, 7, 8, 9, 12, 13, 17, 18, 20, 21, 22, 23, 25, 27, 29, 30, 31, 35, 36, 38, 39, 41, 42, 44, 45}\n",
            "{0, 1, 3, 4, 7, 8, 9, 12, 13, 17, 18, 20, 21, 22, 23, 25, 27, 29, 30, 31, 35, 36, 38, 39, 41, 42, 44, 45}\n",
            "{0, 1, 3, 4, 7, 8, 9, 12, 13, 17, 18, 20, 21, 22, 23, 25, 27, 29, 30, 31, 35, 36, 38, 39, 41, 42, 44, 45}\n",
            "{0, 1, 3, 4, 7, 8, 9, 12, 13, 17, 18, 20, 21, 22, 23, 25, 27, 29, 30, 31, 35, 36, 38, 39, 41, 42, 44, 45}\n",
            "{0, 1, 3, 4, 7, 8, 9, 12, 13, 17, 18, 20, 21, 22, 23, 25, 27, 29, 30, 31, 35, 36, 38, 39, 41, 42, 44, 45}\n",
            "{0, 1, 3, 4, 7, 8, 9, 12, 13, 17, 18, 20, 21, 22, 23, 25, 27, 29, 30, 31, 35, 36, 38, 39, 41, 42, 44, 45}\n",
            "{0, 1, 3, 4, 7, 8, 9, 12, 13, 17, 18, 20, 21, 22, 23, 25, 27, 29, 30, 31, 35, 36, 38, 39, 41, 42, 44, 45} \n",
            "count:  48\n"
          ],
          "name": "stdout"
        }
      ]
    },
    {
      "metadata": {
        "id": "e3w6Db2QXA2Z",
        "colab_type": "code",
        "colab": {
          "base_uri": "https://localhost:8080/",
          "height": 108
        },
        "outputId": "895ff05a-f388-4380-faca-34a20932d698"
      },
      "cell_type": "code",
      "source": [
        "BNK48 = tuple(range(48))\n",
        "print(BNK48, len(BNK48))\n",
        "import numpy as np\n",
        "\n",
        "sample = np.random.choice(BNK48, 1, replace = True)\n",
        "print(type(sample))\n",
        "print(type(int(sample)), int(sample))"
      ],
      "execution_count": 202,
      "outputs": [
        {
          "output_type": "stream",
          "text": [
            "(0, 1, 2, 3, 4, 5, 6, 7, 8, 9, 10, 11, 12, 13, 14, 15, 16, 17, 18, 19, 20, 21, 22, 23, 24, 25, 26, 27, 28, 29, 30, 31, 32, 33, 34, 35, 36, 37, 38, 39, 40, 41, 42, 43, 44, 45, 46, 47) 48\n",
            "<class 'numpy.ndarray'>\n",
            "<class 'int'> 14\n"
          ],
          "name": "stdout"
        }
      ]
    },
    {
      "metadata": {
        "id": "bp7xVfJucT1c",
        "colab_type": "code",
        "colab": {
          "base_uri": "https://localhost:8080/",
          "height": 833
        },
        "outputId": "901b852e-7cbc-4940-d41a-c1baf5a8bf18"
      },
      "cell_type": "code",
      "source": [
        "list(range(1,49))"
      ],
      "execution_count": 239,
      "outputs": [
        {
          "output_type": "execute_result",
          "data": {
            "text/plain": [
              "[1,\n",
              " 2,\n",
              " 3,\n",
              " 4,\n",
              " 5,\n",
              " 6,\n",
              " 7,\n",
              " 8,\n",
              " 9,\n",
              " 10,\n",
              " 11,\n",
              " 12,\n",
              " 13,\n",
              " 14,\n",
              " 15,\n",
              " 16,\n",
              " 17,\n",
              " 18,\n",
              " 19,\n",
              " 20,\n",
              " 21,\n",
              " 22,\n",
              " 23,\n",
              " 24,\n",
              " 25,\n",
              " 26,\n",
              " 27,\n",
              " 28,\n",
              " 29,\n",
              " 30,\n",
              " 31,\n",
              " 32,\n",
              " 33,\n",
              " 34,\n",
              " 35,\n",
              " 36,\n",
              " 37,\n",
              " 38,\n",
              " 39,\n",
              " 40,\n",
              " 41,\n",
              " 42,\n",
              " 43,\n",
              " 44,\n",
              " 45,\n",
              " 46,\n",
              " 47,\n",
              " 48]"
            ]
          },
          "metadata": {
            "tags": []
          },
          "execution_count": 239
        }
      ]
    }
  ]
}