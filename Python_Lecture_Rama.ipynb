{
  "nbformat": 4,
  "nbformat_minor": 0,
  "metadata": {
    "colab": {
      "name": "Python_Lecture_Rama.ipynb",
      "version": "0.3.2",
      "provenance": [],
      "include_colab_link": true
    },
    "kernelspec": {
      "display_name": "Python 3",
      "language": "python",
      "name": "python3"
    }
  },
  "cells": [
    {
      "cell_type": "markdown",
      "metadata": {
        "id": "view-in-github",
        "colab_type": "text"
      },
      "source": [
        "<a href=\"https://colab.research.google.com/github/perlestot/Machine-Learning-with-Python/blob/master/Python_Lecture_Rama.ipynb\" target=\"_parent\"><img src=\"https://colab.research.google.com/assets/colab-badge.svg\" alt=\"Open In Colab\"/></a>"
      ]
    },
    {
      "metadata": {
        "id": "xTZQHileV0Sb",
        "colab_type": "text"
      },
      "cell_type": "markdown",
      "source": [
        "https://colab.research.google.com/notebooks/welcome.ipynb\n",
        "\n",
        "https://github.com/perlestot/Machine-Learning-with-Python/blob/master/Python_Lecture_Rama.ipynb"
      ]
    },
    {
      "metadata": {
        "colab_type": "code",
        "id": "P9WiJc6HodSv",
        "outputId": "8ef62271-a910-4d09-eab2-cd805d9b194f",
        "colab": {
          "base_uri": "https://localhost:8080/",
          "height": 80
        }
      },
      "cell_type": "code",
      "source": [
        "text = input('Please input your name: ')\n",
        "print('Your name is: ', text)"
      ],
      "execution_count": 0,
      "outputs": [
        {
          "output_type": "stream",
          "text": [
            "Please input your name: PLoT\n",
            "Your name is:  PLoT\n"
          ],
          "name": "stdout"
        }
      ]
    },
    {
      "metadata": {
        "colab_type": "code",
        "id": "AUIygPTNzaoR",
        "outputId": "a9ebca9c-1962-4290-dac2-c4f34ddd8091",
        "colab": {
          "base_uri": "https://localhost:8080/",
          "height": 34
        }
      },
      "cell_type": "code",
      "source": [
        "type(10.1)"
      ],
      "execution_count": 0,
      "outputs": [
        {
          "output_type": "execute_result",
          "data": {
            "text/plain": [
              "float"
            ]
          },
          "metadata": {
            "tags": []
          },
          "execution_count": 28
        }
      ]
    },
    {
      "metadata": {
        "colab_type": "code",
        "id": "LgJmO_3jzng7",
        "outputId": "d572546e-b175-4556-ba53-61ab3631edbe",
        "colab": {
          "base_uri": "https://localhost:8080/",
          "height": 34
        }
      },
      "cell_type": "code",
      "source": [
        "age = 14\n",
        "type(age)"
      ],
      "execution_count": 0,
      "outputs": [
        {
          "output_type": "execute_result",
          "data": {
            "text/plain": [
              "int"
            ]
          },
          "metadata": {
            "tags": []
          },
          "execution_count": 29
        }
      ]
    },
    {
      "metadata": {
        "colab_type": "code",
        "id": "3D-JhST8z8gb",
        "outputId": "19fc82c8-afae-4bf2-a919-71eda7c32886",
        "colab": {
          "base_uri": "https://localhost:8080/",
          "height": 34
        }
      },
      "cell_type": "code",
      "source": [
        "type('Hello world')"
      ],
      "execution_count": 0,
      "outputs": [
        {
          "output_type": "execute_result",
          "data": {
            "text/plain": [
              "str"
            ]
          },
          "metadata": {
            "tags": []
          },
          "execution_count": 30
        }
      ]
    },
    {
      "metadata": {
        "colab_type": "code",
        "id": "XCAx7igS0AXF",
        "outputId": "146778b0-4006-44a6-9a51-4e350105d8bc",
        "colab": {
          "base_uri": "https://localhost:8080/",
          "height": 51
        }
      },
      "cell_type": "code",
      "source": [
        "X = [1,2]\n",
        "Y = (X)\n",
        "print('Y is ', type(Y))\n",
        "Z = tuple(X)\n",
        "print('Z is ', type(Z))"
      ],
      "execution_count": 0,
      "outputs": [
        {
          "output_type": "stream",
          "text": [
            "Y is  <class 'list'>\n",
            "Z is  <class 'tuple'>\n"
          ],
          "name": "stdout"
        }
      ]
    },
    {
      "metadata": {
        "colab_type": "code",
        "id": "bNrVWzRQ3K-3",
        "outputId": "f728e4b0-a705-421d-f7b4-57778d3e035b",
        "colab": {
          "base_uri": "https://localhost:8080/",
          "height": 68
        }
      },
      "cell_type": "code",
      "source": [
        "gender = ('Female', 'Male')\n",
        "print('gender type is', type(gender))\n",
        "print('gender[0] is', gender[0], '\\ngender[1] is', gender[1])"
      ],
      "execution_count": 0,
      "outputs": [
        {
          "output_type": "stream",
          "text": [
            "gender type is <class 'tuple'>\n",
            "gender[0] is Female \n",
            "gender[1] is Male\n"
          ],
          "name": "stdout"
        }
      ]
    },
    {
      "metadata": {
        "colab_type": "code",
        "id": "1ALshd4u4PM2",
        "outputId": "51a0e0d4-c83f-4f03-f95d-19f56fdd3273",
        "colab": {
          "base_uri": "https://localhost:8080/",
          "height": 34
        }
      },
      "cell_type": "code",
      "source": [
        "tuple_num = (1,1,1,2,2,2,2,3,3,3,4,4,4,4,)\n",
        "tuple_num.count(1)\n"
      ],
      "execution_count": 0,
      "outputs": [
        {
          "output_type": "execute_result",
          "data": {
            "text/plain": [
              "3"
            ]
          },
          "metadata": {
            "tags": []
          },
          "execution_count": 33
        }
      ]
    },
    {
      "metadata": {
        "colab_type": "code",
        "id": "X9Y7ICeN6ILy",
        "outputId": "31d7ac0c-1c11-404d-f8d1-5d47c826ac0a",
        "colab": {
          "base_uri": "https://localhost:8080/",
          "height": 85
        }
      },
      "cell_type": "code",
      "source": [
        "print(tuple_num.index(2))\n",
        "\n",
        "text_name = ('A','B','C','D','E','F')\n",
        "print(\"Index of 'A' is\",text_name.index('A'))\n",
        "print(\"Index of 'C' is\",text_name.index('C'))\n",
        "print(\"Index of 'F' is\",text_name.index('F'))\n"
      ],
      "execution_count": 0,
      "outputs": [
        {
          "output_type": "stream",
          "text": [
            "3\n",
            "Index of 'A' is 0\n",
            "Index of 'C' is 2\n",
            "Index of 'F' is 5\n"
          ],
          "name": "stdout"
        }
      ]
    },
    {
      "metadata": {
        "colab_type": "code",
        "id": "A8EoenKy6lY1",
        "outputId": "52d8d3b5-ca1d-4181-a8fa-58187f6cbb6f",
        "colab": {
          "base_uri": "https://localhost:8080/",
          "height": 51
        }
      },
      "cell_type": "code",
      "source": [
        "print('Lenght of tuple_num', len(tuple_num))\n",
        "print('Lenght of text_name', len(text_name))"
      ],
      "execution_count": 0,
      "outputs": [
        {
          "output_type": "stream",
          "text": [
            "Lenght of tuple_num 14\n",
            "Lenght of text_name 6\n"
          ],
          "name": "stdout"
        }
      ]
    },
    {
      "metadata": {
        "colab_type": "code",
        "id": "cY9xPLFw-dFH",
        "outputId": "6182a9ad-0adb-4229-a13b-01861671f1ef",
        "colab": {
          "base_uri": "https://localhost:8080/",
          "height": 85
        }
      },
      "cell_type": "code",
      "source": [
        "num_1 = (4,6,8,3,6,2,3,1,6,8,0,3,1)\n",
        "print(sorted(num_1),'\\ntype is',type(sorted(num_1)))\n",
        "gender = ('Male','Transgender', 'Female')\n",
        "print(sorted(gender),'\\ntype is',type(sorted(gender)))"
      ],
      "execution_count": 0,
      "outputs": [
        {
          "output_type": "stream",
          "text": [
            "[0, 1, 1, 2, 3, 3, 3, 4, 6, 6, 6, 8, 8] \n",
            "type is <class 'list'>\n",
            "['Female', 'Male', 'Transgender'] \n",
            "type is <class 'list'>\n"
          ],
          "name": "stdout"
        }
      ]
    },
    {
      "metadata": {
        "colab_type": "code",
        "id": "nRFVfPoN_DJg",
        "outputId": "f634d1cc-b6a6-47d6-ca90-591ca3a2168a",
        "colab": {
          "base_uri": "https://localhost:8080/",
          "height": 34
        }
      },
      "cell_type": "code",
      "source": [
        "type(sorted)"
      ],
      "execution_count": 0,
      "outputs": [
        {
          "output_type": "execute_result",
          "data": {
            "text/plain": [
              "builtin_function_or_method"
            ]
          },
          "metadata": {
            "tags": []
          },
          "execution_count": 37
        }
      ]
    },
    {
      "metadata": {
        "colab_type": "code",
        "id": "Kn_2erVO_JA4",
        "outputId": "46806664-9db3-4eef-a77d-f7c8678bac5d",
        "colab": {
          "base_uri": "https://localhost:8080/",
          "height": 34
        }
      },
      "cell_type": "code",
      "source": [
        "list_1 = list(num_1)\n",
        "list_1"
      ],
      "execution_count": 0,
      "outputs": [
        {
          "output_type": "execute_result",
          "data": {
            "text/plain": [
              "[4, 6, 8, 3, 6, 2, 3, 1, 6, 8, 0, 3, 1]"
            ]
          },
          "metadata": {
            "tags": []
          },
          "execution_count": 38
        }
      ]
    },
    {
      "metadata": {
        "colab_type": "code",
        "id": "70FkRPm3A5gz",
        "outputId": "63575415-34ca-4e5b-cb0b-e699bef0ace8",
        "colab": {
          "base_uri": "https://localhost:8080/",
          "height": 136
        }
      },
      "cell_type": "code",
      "source": [
        "print('Summation', sum(list_1))\n",
        "print('Maximum', max(list_1))\n",
        "print('Minimum', min(list_1))\n",
        "print('sort', sorted(list_1))\n",
        "print('Lenght', len(list_1))\n",
        "\n",
        "print('Index', list_1.index(8))\n",
        "print('Count', list_1.count(6))"
      ],
      "execution_count": 0,
      "outputs": [
        {
          "output_type": "stream",
          "text": [
            "Summation 51\n",
            "Maximum 8\n",
            "Minimum 0\n",
            "sort [0, 1, 1, 2, 3, 3, 3, 4, 6, 6, 6, 8, 8]\n",
            "Lenght 13\n",
            "Index 2\n",
            "Count 3\n"
          ],
          "name": "stdout"
        }
      ]
    },
    {
      "metadata": {
        "colab_type": "code",
        "id": "f6XhXNm4BcAq",
        "outputId": "fad4a489-29f8-4054-c379-419e3523c478",
        "colab": {
          "base_uri": "https://localhost:8080/",
          "height": 51
        }
      },
      "cell_type": "code",
      "source": [
        "text_2 = ['001','002','002','003','003']\n",
        "print('At first, text_2 is ', text_2)\n",
        "text_2.append('004')\n",
        "print('After that, text_2 is ', text_2)"
      ],
      "execution_count": 0,
      "outputs": [
        {
          "output_type": "stream",
          "text": [
            "At first, text_2 is  ['001', '002', '002', '003', '003']\n",
            "After that, text_2 is  ['001', '002', '002', '003', '003', '004']\n"
          ],
          "name": "stdout"
        }
      ]
    },
    {
      "metadata": {
        "colab_type": "code",
        "id": "tEHDBmfRDLfT",
        "outputId": "11928cf9-d8de-4993-d372-accbfe718370",
        "colab": {
          "base_uri": "https://localhost:8080/",
          "height": 51
        }
      },
      "cell_type": "code",
      "source": [
        "text_2 = ['001', '002', '002', '003', '003', '004']\n",
        "text_2.insert(0,'005')\n",
        "print(\"Insert '005' at index[0]: \",text_2)\n",
        "text_2.insert(text_2.index('003'),'006')\n",
        "print(\"Insert by searching index at '003': \", text_2)"
      ],
      "execution_count": 0,
      "outputs": [
        {
          "output_type": "stream",
          "text": [
            "Insert '005' at index[0]:  ['005', '001', '002', '002', '003', '003', '004']\n",
            "Insert by searching index at '003':  ['005', '001', '002', '002', '006', '003', '003', '004']\n"
          ],
          "name": "stdout"
        }
      ]
    },
    {
      "metadata": {
        "colab_type": "code",
        "id": "My07ylMXENOZ",
        "outputId": "9c0a4835-fd26-4e1c-988e-1837aa6789c3",
        "colab": {
          "base_uri": "https://localhost:8080/",
          "height": 34
        }
      },
      "cell_type": "code",
      "source": [
        "text_2 = ['001', '002', '002', '003', '003', '004']\n",
        "text_2.remove('003')\n",
        "text_2"
      ],
      "execution_count": 0,
      "outputs": [
        {
          "output_type": "execute_result",
          "data": {
            "text/plain": [
              "['001', '002', '002', '003', '004']"
            ]
          },
          "metadata": {
            "tags": []
          },
          "execution_count": 42
        }
      ]
    },
    {
      "metadata": {
        "colab_type": "code",
        "id": "TSXrN2_DEiaD",
        "outputId": "718b5e19-a37a-4bf3-ba04-7573f92f4e91",
        "colab": {
          "base_uri": "https://localhost:8080/",
          "height": 85
        }
      },
      "cell_type": "code",
      "source": [
        "P_name ={'First Name': 'Parin', 'Last Name':'Kittipongdaja','Age': 28, 'Education':['Chulalongkorn','Mahidol']}\n",
        "P_name"
      ],
      "execution_count": 0,
      "outputs": [
        {
          "output_type": "execute_result",
          "data": {
            "text/plain": [
              "{'First Name': 'Parin',\n",
              " 'Last Name': 'Kittipongdaja',\n",
              " 'Age': 28,\n",
              " 'Education': ['Chulalongkorn', 'Mahidol']}"
            ]
          },
          "metadata": {
            "tags": []
          },
          "execution_count": 43
        }
      ]
    },
    {
      "metadata": {
        "colab_type": "code",
        "id": "hawgzXytFX6O",
        "outputId": "613d7d99-2aa5-4241-9dd6-1e989422130e",
        "colab": {
          "base_uri": "https://localhost:8080/",
          "height": 85
        }
      },
      "cell_type": "code",
      "source": [
        "keys = ['First Name', 'Last Name', 'Age', 'Education']\n",
        "values = ['Parin', 'Kittipongdaja', 28, ['Chulalongkorn','Mahidol']]\n",
        "Z = dict(zip(keys,values))\n",
        "Z"
      ],
      "execution_count": 0,
      "outputs": [
        {
          "output_type": "execute_result",
          "data": {
            "text/plain": [
              "{'First Name': 'Parin',\n",
              " 'Last Name': 'Kittipongdaja',\n",
              " 'Age': 28,\n",
              " 'Education': ['Chulalongkorn', 'Mahidol']}"
            ]
          },
          "metadata": {
            "tags": []
          },
          "execution_count": 44
        }
      ]
    },
    {
      "metadata": {
        "colab_type": "code",
        "id": "Aiyce5mUFq9h",
        "outputId": "a4b05548-4149-40fe-d924-ad3de7678415",
        "colab": {
          "base_uri": "https://localhost:8080/",
          "height": 85
        }
      },
      "cell_type": "code",
      "source": [
        "print(P_name['First Name'])\n",
        "print(P_name['Last Name'])\n",
        "print(P_name['Age'])\n",
        "print(P_name['Education'])"
      ],
      "execution_count": 0,
      "outputs": [
        {
          "output_type": "stream",
          "text": [
            "Parin\n",
            "Kittipongdaja\n",
            "28\n",
            "['Chulalongkorn', 'Mahidol']\n"
          ],
          "name": "stdout"
        }
      ]
    },
    {
      "metadata": {
        "colab_type": "code",
        "id": "MNfnfBL9GRh1",
        "outputId": "0b1e132b-141f-4bd2-f847-9d0bd8c2ecc2",
        "colab": {
          "base_uri": "https://localhost:8080/",
          "height": 176
        }
      },
      "cell_type": "code",
      "source": [
        "print(P_name.keys())\n",
        "print(list(P_name.keys()))\n",
        "print(P_name.values())\n",
        "print(list(P_name.values()))\n",
        "print(len(P_name))\n",
        "P_name['Height'] = 181\n",
        "print(P_name)\n",
        "del P_name['Height']\n",
        "print(P_name)"
      ],
      "execution_count": 0,
      "outputs": [
        {
          "output_type": "stream",
          "text": [
            "dict_keys(['First Name', 'Last Name', 'Age', 'Education'])\n",
            "['First Name', 'Last Name', 'Age', 'Education']\n",
            "dict_values(['Parin', 'Kittipongdaja', 28, ['Chulalongkorn', 'Mahidol']])\n",
            "['Parin', 'Kittipongdaja', 28, ['Chulalongkorn', 'Mahidol']]\n",
            "4\n",
            "{'First Name': 'Parin', 'Last Name': 'Kittipongdaja', 'Age': 28, 'Education': ['Chulalongkorn', 'Mahidol'], 'Height': 181}\n",
            "{'First Name': 'Parin', 'Last Name': 'Kittipongdaja', 'Age': 28, 'Education': ['Chulalongkorn', 'Mahidol']}\n"
          ],
          "name": "stdout"
        }
      ]
    },
    {
      "metadata": {
        "colab_type": "code",
        "id": "auHHBAuIHzL6",
        "outputId": "576f013e-3007-4141-f309-6772cf918385",
        "colab": {
          "base_uri": "https://localhost:8080/",
          "height": 374
        }
      },
      "cell_type": "code",
      "source": [
        "whos"
      ],
      "execution_count": 0,
      "outputs": [
        {
          "output_type": "stream",
          "text": [
            "Variable    Type       Data/Info\n",
            "--------------------------------\n",
            "P_name      dict       n=4\n",
            "X           list       n=2\n",
            "Y           list       n=2\n",
            "Z           dict       n=4\n",
            "age         int        14\n",
            "fset_num    list       n=4\n",
            "gender      tuple      n=3\n",
            "i           int        4\n",
            "items       tuple      n=6\n",
            "keys        list       n=4\n",
            "list_1      list       n=13\n",
            "list_num    list       n=14\n",
            "new_list    list       n=4\n",
            "np          module     <module 'numpy' from '/an<...>kages/numpy/__init__.py'>\n",
            "num_1       tuple      n=13\n",
            "sample      ndarray    3: 3 elems, type `int64`, 24 bytes\n",
            "set_num     set        {1, 2, 3, 4}\n",
            "text        str        PLoT\n",
            "text_2      list       n=5\n",
            "text_name   tuple      n=6\n",
            "tuple_num   tuple      n=14\n",
            "values      list       n=4\n"
          ],
          "name": "stdout"
        }
      ]
    },
    {
      "metadata": {
        "colab_type": "code",
        "id": "dRdyDOA0H8gg",
        "outputId": "f3506a4e-3485-497c-f0e9-b3db1226541b",
        "colab": {
          "base_uri": "https://localhost:8080/",
          "height": 85
        }
      },
      "cell_type": "code",
      "source": [
        "list_num = [1, 1, 1, 2, 2, 2, 2, 3, 3, 3, 4, 4, 4, 4]\n",
        "print('list_num: ',list_num)\n",
        "set_num = set(list_num)\n",
        "print('set_num: ', set_num)\n",
        "fset_num = list(set_num)\n",
        "print('Force to list', fset_num)\n",
        "print(len(set_num))"
      ],
      "execution_count": 0,
      "outputs": [
        {
          "output_type": "stream",
          "text": [
            "list_num:  [1, 1, 1, 2, 2, 2, 2, 3, 3, 3, 4, 4, 4, 4]\n",
            "set_num:  {1, 2, 3, 4}\n",
            "Force to list [1, 2, 3, 4]\n",
            "4\n"
          ],
          "name": "stdout"
        }
      ]
    },
    {
      "metadata": {
        "colab_type": "code",
        "id": "ZGRl3uWDJO7o",
        "outputId": "b9aec322-387f-4d71-a01b-10494348fcf6",
        "colab": {
          "base_uri": "https://localhost:8080/",
          "height": 34
        }
      },
      "cell_type": "code",
      "source": [
        "1 in list_num"
      ],
      "execution_count": 0,
      "outputs": [
        {
          "output_type": "execute_result",
          "data": {
            "text/plain": [
              "True"
            ]
          },
          "metadata": {
            "tags": []
          },
          "execution_count": 49
        }
      ]
    },
    {
      "metadata": {
        "colab_type": "code",
        "id": "_CDIV1VQJS-p",
        "outputId": "09deb469-e587-4083-9349-5d8d0c35ff39",
        "colab": {
          "base_uri": "https://localhost:8080/",
          "height": 51
        }
      },
      "cell_type": "code",
      "source": [
        "print('list_num: ',list_num)\n",
        "new_list = []\n",
        "for i in list_num:\n",
        "  if i in new_list:\n",
        "    pass\n",
        "  else:\n",
        "    new_list.append(i)\n",
        "    \n",
        "print('new_list: ',new_list)"
      ],
      "execution_count": 0,
      "outputs": [
        {
          "output_type": "stream",
          "text": [
            "list_num:  [1, 1, 1, 2, 2, 2, 2, 3, 3, 3, 4, 4, 4, 4]\n",
            "new_list:  [1, 2, 3, 4]\n"
          ],
          "name": "stdout"
        }
      ]
    },
    {
      "metadata": {
        "colab_type": "code",
        "id": "37jxTlB3MqYk",
        "outputId": "5db10ea3-1eba-4a08-bea8-6ef0a0a9f1c4",
        "colab": {
          "base_uri": "https://localhost:8080/",
          "height": 68
        }
      },
      "cell_type": "code",
      "source": [
        "import numpy as np\n",
        "\n",
        "items = (1,2,3,4,5,6)\n",
        "sample = np.random.choice(items, 3, replace = True)\n",
        "'''Draw from uniform distribution'''\n",
        "print(sample)\n",
        "print(type(sample))\n",
        "sample[0]\n",
        "print(type(int(sample[0])))"
      ],
      "execution_count": 0,
      "outputs": [
        {
          "output_type": "stream",
          "text": [
            "[5 4 6]\n",
            "<class 'numpy.ndarray'>\n",
            "<class 'int'>\n"
          ],
          "name": "stdout"
        }
      ]
    },
    {
      "metadata": {
        "colab_type": "code",
        "id": "J2geryBvNSn7",
        "outputId": "ba68ad11-2a44-44a7-9395-5698d3da6f38",
        "colab": {
          "base_uri": "https://localhost:8080/",
          "height": 376
        }
      },
      "cell_type": "code",
      "source": [
        "import matplotlib.pyplot as plt\n",
        "\n",
        "x = [1,2,3,4,5]\n",
        "y = [10,15,12,20,18]\n",
        "plt.bar(x,y)\n",
        "plt.title(\"Bar chart\")\n",
        "plt.xlabel(\"X-axis\")\n",
        "plt.ylabel(\"Y-axis\")\n",
        "plt.show()"
      ],
      "execution_count": 0,
      "outputs": [
        {
          "output_type": "display_data",
          "data": {
            "text/plain": [
              "<Figure size 640x480 with 1 Axes>"
            ]
          },
          "metadata": {
            "tags": []
          }
        }
      ]
    },
    {
      "metadata": {
        "colab_type": "code",
        "id": "l9hSmFN1NvRU",
        "outputId": "8721bd93-3287-43a6-ef53-33e89482c0d7",
        "colab": {
          "base_uri": "https://localhost:8080/",
          "height": 376
        }
      },
      "cell_type": "code",
      "source": [
        "plt.plot(x,y)\n",
        "plt.title(\"Line chart\")\n",
        "plt.xlabel(\"X-axis\")\n",
        "plt.ylabel(\"Y-axis\")\n",
        "plt.show()"
      ],
      "execution_count": 0,
      "outputs": [
        {
          "output_type": "display_data",
          "data": {
            "image/png": "[encoded data removed]",
            "text/plain": [
              "<Figure size 432x288 with 1 Axes>"
            ]
          },
          "metadata": {
            "tags": [],
            "needs_background": "light"
          }
        }
      ]
    },
    {
      "metadata": {
        "colab_type": "code",
        "id": "jmDvm-ycN-IW",
        "outputId": "4bc39bd4-42df-49f9-ac11-a840a4c4f02b",
        "colab": {
          "base_uri": "https://localhost:8080/",
          "height": 376
        }
      },
      "cell_type": "code",
      "source": [
        "plt.scatter(x,y)\n",
        "plt.title(\"Scatter plot\")\n",
        "plt.xlabel(\"X-axis\")\n",
        "plt.ylabel(\"Y-axis\")\n",
        "plt.show()"
      ],
      "execution_count": 0,
      "outputs": [
        {
          "output_type": "display_data",
          "data": {
            "image/png": "[encoded data removed]",
            "text/plain": [
              "<Figure size 432x288 with 1 Axes>"
            ]
          },
          "metadata": {
            "tags": [],
            "needs_background": "light"
          }
        }
      ]
    },
    {
      "metadata": {
        "colab_type": "code",
        "id": "k8bTyL5iSKEG",
        "outputId": "303b4a1b-19cc-49b7-bc09-5991873a82ce",
        "colab": {
          "base_uri": "https://localhost:8080/",
          "height": 74
        }
      },
      "cell_type": "code",
      "source": [
        "BNK48 = tuple(range(48))\n",
        "print(BNK48, len(BNK48))"
      ],
      "execution_count": 0,
      "outputs": [
        {
          "output_type": "stream",
          "text": [
            "(0, 1, 2, 3, 4, 5, 6, 7, 8, 9, 10, 11, 12, 13, 14, 15, 16, 17, 18, 19, 20, 21, 22, 23, 24, 25, 26, 27, 28, 29, 30, 31, 32, 33, 34, 35, 36, 37, 38, 39, 40, 41, 42, 43, 44, 45, 46, 47) 48\n"
          ],
          "name": "stdout"
        }
      ]
    },
    {
      "metadata": {
        "colab_type": "code",
        "id": "HLj90sAqRKSh",
        "outputId": "c4099128-cfd0-4490-96bf-9377ee4e2dc4",
        "colab": {
          "base_uri": "https://localhost:8080/",
          "height": 34
        }
      },
      "cell_type": "code",
      "source": [
        "ddd = set()\n",
        "ddd.add(1)\n",
        "ddd"
      ],
      "execution_count": 0,
      "outputs": [
        {
          "output_type": "execute_result",
          "data": {
            "text/plain": [
              "{1}"
            ]
          },
          "metadata": {
            "tags": []
          },
          "execution_count": 64
        }
      ]
    },
    {
      "metadata": {
        "colab_type": "code",
        "id": "hA6-dTaCW005",
        "outputId": "95c40b05-ac40-4b3a-d0ff-5eb2895b4857",
        "colab": {
          "base_uri": "https://localhost:8080/",
          "height": 867
        }
      },
      "cell_type": "code",
      "source": [
        "BNK48 = tuple(range(48))\n",
        "#print(BNK48, len(BNK48))\n",
        "\n",
        "import numpy as np\n",
        "\n",
        "sample = np.random.choice(BNK48, 1, replace = True)\n",
        "#print(sample)\n",
        "\n",
        "buy_set = set()\n",
        "count = 0\n",
        "for i in range(48):\n",
        "  sample = np.random.choice(BNK48, 1, replace = True)\n",
        "  buy_set.add(int(sample))\n",
        "  print(buy_set)\n",
        "  count += 1\n",
        "  \n",
        "print(buy_set, '\\ncount: ',count)"
      ],
      "execution_count": 0,
      "outputs": [
        {
          "output_type": "stream",
          "text": [
            "{2}\n",
            "{2, 45}\n",
            "{2, 45, 38}\n",
            "{17, 2, 45, 38}\n",
            "{2, 38, 43, 45, 17}\n",
            "{2, 38, 41, 43, 45, 17}\n",
            "{2, 38, 41, 43, 45, 17, 25}\n",
            "{2, 38, 41, 43, 45, 17, 25}\n",
            "{2, 38, 41, 43, 45, 17, 25}\n",
            "{2, 38, 41, 43, 45, 17, 24, 25}\n",
            "{2, 38, 41, 43, 45, 47, 17, 24, 25}\n",
            "{2, 38, 41, 43, 45, 47, 17, 24, 25}\n",
            "{2, 38, 41, 43, 45, 47, 17, 24, 25}\n",
            "{33, 2, 38, 41, 43, 45, 47, 17, 24, 25}\n",
            "{33, 2, 38, 41, 43, 45, 13, 47, 17, 24, 25}\n",
            "{33, 2, 34, 38, 41, 43, 45, 13, 47, 17, 24, 25}\n",
            "{33, 2, 34, 38, 39, 41, 43, 45, 13, 47, 17, 24, 25}\n",
            "{33, 2, 34, 38, 39, 41, 43, 45, 13, 47, 17, 24, 25, 28}\n",
            "{33, 2, 34, 38, 39, 41, 43, 45, 13, 47, 16, 17, 24, 25, 28}\n",
            "{33, 2, 34, 5, 38, 39, 41, 43, 45, 13, 47, 16, 17, 24, 25, 28}\n",
            "{33, 2, 34, 5, 38, 39, 41, 43, 45, 13, 47, 16, 17, 14, 24, 25, 28}\n",
            "{33, 2, 34, 5, 38, 39, 41, 43, 45, 13, 47, 16, 17, 14, 24, 25, 28}\n",
            "{0, 33, 2, 34, 5, 38, 39, 41, 43, 45, 13, 47, 16, 17, 14, 24, 25, 28}\n",
            "{0, 2, 5, 13, 14, 16, 17, 24, 25, 28, 29, 33, 34, 38, 39, 41, 43, 45, 47}\n",
            "{0, 2, 5, 13, 14, 16, 17, 24, 25, 28, 29, 33, 34, 37, 38, 39, 41, 43, 45, 47}\n",
            "{0, 2, 5, 13, 14, 16, 17, 24, 25, 28, 29, 33, 34, 37, 38, 39, 41, 43, 45, 47}\n",
            "{0, 2, 5, 13, 14, 16, 17, 24, 25, 28, 29, 33, 34, 37, 38, 39, 41, 43, 45, 47}\n",
            "{0, 2, 5, 13, 14, 16, 17, 24, 25, 28, 29, 33, 34, 37, 38, 39, 41, 43, 45, 47}\n",
            "{0, 2, 5, 13, 14, 16, 17, 24, 25, 28, 29, 31, 33, 34, 37, 38, 39, 41, 43, 45, 47}\n",
            "{0, 2, 5, 13, 14, 16, 17, 24, 25, 28, 29, 31, 33, 34, 37, 38, 39, 41, 43, 45, 46, 47}\n",
            "{0, 2, 5, 13, 14, 16, 17, 24, 25, 28, 29, 31, 33, 34, 37, 38, 39, 41, 43, 45, 46, 47}\n",
            "{0, 2, 5, 13, 14, 16, 17, 24, 25, 28, 29, 31, 33, 34, 37, 38, 39, 41, 43, 45, 46, 47}\n",
            "{0, 2, 5, 13, 14, 16, 17, 21, 24, 25, 28, 29, 31, 33, 34, 37, 38, 39, 41, 43, 45, 46, 47}\n",
            "{0, 2, 5, 13, 14, 16, 17, 21, 24, 25, 28, 29, 31, 33, 34, 37, 38, 39, 41, 43, 45, 46, 47}\n",
            "{0, 2, 5, 13, 14, 16, 17, 21, 24, 25, 28, 29, 31, 33, 34, 37, 38, 39, 41, 43, 45, 46, 47}\n",
            "{0, 2, 5, 13, 14, 16, 17, 21, 24, 25, 28, 29, 31, 33, 34, 37, 38, 39, 41, 43, 45, 46, 47}\n",
            "{0, 2, 5, 12, 13, 14, 16, 17, 21, 24, 25, 28, 29, 31, 33, 34, 37, 38, 39, 41, 43, 45, 46, 47}\n",
            "{0, 2, 5, 12, 13, 14, 16, 17, 21, 24, 25, 28, 29, 31, 33, 34, 37, 38, 39, 41, 43, 44, 45, 46, 47}\n",
            "{0, 2, 5, 6, 12, 13, 14, 16, 17, 21, 24, 25, 28, 29, 31, 33, 34, 37, 38, 39, 41, 43, 44, 45, 46, 47}\n",
            "{0, 2, 5, 6, 12, 13, 14, 16, 17, 21, 24, 25, 28, 29, 31, 33, 34, 35, 37, 38, 39, 41, 43, 44, 45, 46, 47}\n",
            "{0, 2, 5, 6, 12, 13, 14, 16, 17, 21, 24, 25, 28, 29, 31, 33, 34, 35, 37, 38, 39, 41, 43, 44, 45, 46, 47}\n",
            "{0, 2, 5, 6, 12, 13, 14, 16, 17, 21, 24, 25, 28, 29, 31, 33, 34, 35, 37, 38, 39, 41, 43, 44, 45, 46, 47}\n",
            "{0, 2, 5, 6, 12, 13, 14, 16, 17, 21, 23, 24, 25, 28, 29, 31, 33, 34, 35, 37, 38, 39, 41, 43, 44, 45, 46, 47}\n",
            "{0, 2, 5, 6, 12, 13, 14, 16, 17, 21, 23, 24, 25, 28, 29, 31, 33, 34, 35, 37, 38, 39, 41, 43, 44, 45, 46, 47}\n",
            "{0, 2, 5, 6, 12, 13, 14, 16, 17, 21, 23, 24, 25, 28, 29, 31, 33, 34, 35, 37, 38, 39, 41, 43, 44, 45, 46, 47}\n",
            "{0, 2, 5, 6, 9, 12, 13, 14, 16, 17, 21, 23, 24, 25, 28, 29, 31, 33, 34, 35, 37, 38, 39, 41, 43, 44, 45, 46, 47}\n",
            "{0, 2, 5, 6, 9, 12, 13, 14, 15, 16, 17, 21, 23, 24, 25, 28, 29, 31, 33, 34, 35, 37, 38, 39, 41, 43, 44, 45, 46, 47}\n",
            "{0, 2, 5, 6, 9, 12, 13, 14, 15, 16, 17, 21, 23, 24, 25, 28, 29, 31, 33, 34, 35, 37, 38, 39, 40, 41, 43, 44, 45, 46, 47}\n",
            "{0, 2, 5, 6, 9, 12, 13, 14, 15, 16, 17, 21, 23, 24, 25, 28, 29, 31, 33, 34, 35, 37, 38, 39, 40, 41, 43, 44, 45, 46, 47} \n",
            "count:  48\n"
          ],
          "name": "stdout"
        }
      ]
    },
    {
      "metadata": {
        "colab_type": "code",
        "id": "e3w6Db2QXA2Z",
        "outputId": "895ff05a-f388-4380-faca-34a20932d698",
        "colab": {
          "base_uri": "https://localhost:8080/",
          "height": 108
        }
      },
      "cell_type": "code",
      "source": [
        "BNK48 = tuple(range(48))\n",
        "print(BNK48, len(BNK48))\n",
        "import numpy as np\n",
        "\n",
        "sample = np.random.choice(BNK48, 1, replace = True)\n",
        "print(type(sample))\n",
        "print(type(int(sample)), int(sample))"
      ],
      "execution_count": 0,
      "outputs": [
        {
          "output_type": "stream",
          "text": [
            "(0, 1, 2, 3, 4, 5, 6, 7, 8, 9, 10, 11, 12, 13, 14, 15, 16, 17, 18, 19, 20, 21, 22, 23, 24, 25, 26, 27, 28, 29, 30, 31, 32, 33, 34, 35, 36, 37, 38, 39, 40, 41, 42, 43, 44, 45, 46, 47) 48\n",
            "<class 'numpy.ndarray'>\n",
            "<class 'int'> 26\n"
          ],
          "name": "stdout"
        }
      ]
    },
    {
      "metadata": {
        "colab_type": "code",
        "id": "bp7xVfJucT1c",
        "outputId": "901b852e-7cbc-4940-d41a-c1baf5a8bf18",
        "colab": {
          "base_uri": "https://localhost:8080/",
          "height": 833
        }
      },
      "cell_type": "code",
      "source": [
        "list(range(1,49))"
      ],
      "execution_count": 0,
      "outputs": [
        {
          "output_type": "execute_result",
          "data": {
            "text/plain": [
              "[1,\n",
              " 2,\n",
              " 3,\n",
              " 4,\n",
              " 5,\n",
              " 6,\n",
              " 7,\n",
              " 8,\n",
              " 9,\n",
              " 10,\n",
              " 11,\n",
              " 12,\n",
              " 13,\n",
              " 14,\n",
              " 15,\n",
              " 16,\n",
              " 17,\n",
              " 18,\n",
              " 19,\n",
              " 20,\n",
              " 21,\n",
              " 22,\n",
              " 23,\n",
              " 24,\n",
              " 25,\n",
              " 26,\n",
              " 27,\n",
              " 28,\n",
              " 29,\n",
              " 30,\n",
              " 31,\n",
              " 32,\n",
              " 33,\n",
              " 34,\n",
              " 35,\n",
              " 36,\n",
              " 37,\n",
              " 38,\n",
              " 39,\n",
              " 40,\n",
              " 41,\n",
              " 42,\n",
              " 43,\n",
              " 44,\n",
              " 45,\n",
              " 46,\n",
              " 47,\n",
              " 48]"
            ]
          },
          "metadata": {
            "tags": []
          },
          "execution_count": 67
        }
      ]
    },
    {
      "metadata": {
        "colab_type": "code",
        "id": "Pktzvtr1PeAt",
        "outputId": "e3a19630-feae-4be2-a472-ee6c843d63a0",
        "colab": {
          "base_uri": "https://localhost:8080/",
          "height": 142
        }
      },
      "cell_type": "code",
      "source": [
        "num_mem = int(input('Please input number of member in BNK48: '))\n",
        "\n",
        "BNK48 = tuple(range(1,num_mem+1))\n",
        "#print(BNK48, len(BNK48))\n",
        "\n",
        "import numpy as np\n",
        "\n",
        "\n",
        "#print(sample)\n",
        "\n",
        "list_count = []\n",
        "num_ota = int(input('Please gives number of otaku: '))\n",
        "for i in range(num_ota):\n",
        "  Collection_set = set()\n",
        "  count = 0\n",
        "  while len(Collection_set) < num_mem:\n",
        "    sample = np.random.choice(BNK48, 1, replace = True)\n",
        "    Collection_set.add(int(sample))\n",
        "    count += 1\n",
        "  list_count.append(count)\n",
        "  \n",
        "#print(Collection_set, '\\ncount: ',count, '\\nlist_count', list_count)\n",
        "print('Average number of cup that each ota has bought:', np.mean(list_count), '\\nAverage Total Cost: ', np.mean(list_count)*250)"
      ],
      "execution_count": 0,
      "outputs": [
        {
          "output_type": "stream",
          "text": [
            "Please input number of member in BNK48: 51\n",
            "Please gives number of otaku: 10000\n",
            "Average number of cup that each ota has bought: 230.3766 \n",
            "Average Total Cost:  57594.15\n"
          ],
          "name": "stdout"
        }
      ]
    },
    {
      "metadata": {
        "id": "sqaHMdqcV0Ul",
        "colab_type": "code",
        "colab": {},
        "outputId": "5627a5a4-3f06-4e5e-d912-a1b72d0f10d7"
      },
      "cell_type": "code",
      "source": [
        "help(plt.hist)"
      ],
      "execution_count": 0,
      "outputs": [
        {
          "output_type": "stream",
          "text": [
            "Help on function hist in module matplotlib.pyplot:\n",
            "\n",
            "hist(x, bins=None, range=None, density=None, weights=None, cumulative=False, bottom=None, histtype='bar', align='mid', orientation='vertical', rwidth=None, log=False, color=None, label=None, stacked=False, normed=None, *, data=None, **kwargs)\n",
            "    Plot a histogram.\n",
            "    \n",
            "    Compute and draw the histogram of *x*. The return value is a\n",
            "    tuple (*n*, *bins*, *patches*) or ([*n0*, *n1*, ...], *bins*,\n",
            "    [*patches0*, *patches1*,...]) if the input contains multiple\n",
            "    data.\n",
            "    \n",
            "    Multiple data can be provided via *x* as a list of datasets\n",
            "    of potentially different length ([*x0*, *x1*, ...]), or as\n",
            "    a 2-D ndarray in which each column is a dataset.  Note that\n",
            "    the ndarray form is transposed relative to the list form.\n",
            "    \n",
            "    Masked arrays are not supported at present.\n",
            "    \n",
            "    Parameters\n",
            "    ----------\n",
            "    x : (n,) array or sequence of (n,) arrays\n",
            "        Input values, this takes either a single array or a sequence of\n",
            "        arrays which are not required to be of the same length.\n",
            "    \n",
            "    bins : int or sequence or str, optional\n",
            "        If an integer is given, ``bins + 1`` bin edges are calculated and\n",
            "        returned, consistent with `numpy.histogram`.\n",
            "    \n",
            "        If `bins` is a sequence, gives bin edges, including left edge of\n",
            "        first bin and right edge of last bin.  In this case, `bins` is\n",
            "        returned unmodified.\n",
            "    \n",
            "        All but the last (righthand-most) bin is half-open.  In other\n",
            "        words, if `bins` is::\n",
            "    \n",
            "            [1, 2, 3, 4]\n",
            "    \n",
            "        then the first bin is ``[1, 2)`` (including 1, but excluding 2) and\n",
            "        the second ``[2, 3)``.  The last bin, however, is ``[3, 4]``, which\n",
            "        *includes* 4.\n",
            "    \n",
            "        Unequally spaced bins are supported if *bins* is a sequence.\n",
            "    \n",
            "        With Numpy 1.11 or newer, you can alternatively provide a string\n",
            "        describing a binning strategy, such as 'auto', 'sturges', 'fd',\n",
            "        'doane', 'scott', 'rice', 'sturges' or 'sqrt', see\n",
            "        `numpy.histogram`.\n",
            "    \n",
            "        The default is taken from :rc:`hist.bins`.\n",
            "    \n",
            "    range : tuple or None, optional\n",
            "        The lower and upper range of the bins. Lower and upper outliers\n",
            "        are ignored. If not provided, *range* is ``(x.min(), x.max())``.\n",
            "        Range has no effect if *bins* is a sequence.\n",
            "    \n",
            "        If *bins* is a sequence or *range* is specified, autoscaling\n",
            "        is based on the specified bin range instead of the\n",
            "        range of x.\n",
            "    \n",
            "        Default is ``None``\n",
            "    \n",
            "    density : bool, optional\n",
            "        If ``True``, the first element of the return tuple will\n",
            "        be the counts normalized to form a probability density, i.e.,\n",
            "        the area (or integral) under the histogram will sum to 1.\n",
            "        This is achieved by dividing the count by the number of\n",
            "        observations times the bin width and not dividing by the total\n",
            "        number of observations. If *stacked* is also ``True``, the sum of\n",
            "        the histograms is normalized to 1.\n",
            "    \n",
            "        Default is ``None`` for both *normed* and *density*. If either is\n",
            "        set, then that value will be used. If neither are set, then the\n",
            "        args will be treated as ``False``.\n",
            "    \n",
            "        If both *density* and *normed* are set an error is raised.\n",
            "    \n",
            "    weights : (n, ) array_like or None, optional\n",
            "        An array of weights, of the same shape as *x*.  Each value in *x*\n",
            "        only contributes its associated weight towards the bin count\n",
            "        (instead of 1).  If *normed* or *density* is ``True``,\n",
            "        the weights are normalized, so that the integral of the density\n",
            "        over the range remains 1.\n",
            "    \n",
            "        Default is ``None``\n",
            "    \n",
            "    cumulative : bool, optional\n",
            "        If ``True``, then a histogram is computed where each bin gives the\n",
            "        counts in that bin plus all bins for smaller values. The last bin\n",
            "        gives the total number of datapoints. If *normed* or *density*\n",
            "        is also ``True`` then the histogram is normalized such that the\n",
            "        last bin equals 1. If *cumulative* evaluates to less than 0\n",
            "        (e.g., -1), the direction of accumulation is reversed.\n",
            "        In this case, if *normed* and/or *density* is also ``True``, then\n",
            "        the histogram is normalized such that the first bin equals 1.\n",
            "    \n",
            "        Default is ``False``\n",
            "    \n",
            "    bottom : array_like, scalar, or None\n",
            "        Location of the bottom baseline of each bin.  If a scalar,\n",
            "        the base line for each bin is shifted by the same amount.\n",
            "        If an array, each bin is shifted independently and the length\n",
            "        of bottom must match the number of bins.  If None, defaults to 0.\n",
            "    \n",
            "        Default is ``None``\n",
            "    \n",
            "    histtype : {'bar', 'barstacked', 'step',  'stepfilled'}, optional\n",
            "        The type of histogram to draw.\n",
            "    \n",
            "        - 'bar' is a traditional bar-type histogram.  If multiple data\n",
            "          are given the bars are arranged side by side.\n",
            "    \n",
            "        - 'barstacked' is a bar-type histogram where multiple\n",
            "          data are stacked on top of each other.\n",
            "    \n",
            "        - 'step' generates a lineplot that is by default\n",
            "          unfilled.\n",
            "    \n",
            "        - 'stepfilled' generates a lineplot that is by default\n",
            "          filled.\n",
            "    \n",
            "        Default is 'bar'\n",
            "    \n",
            "    align : {'left', 'mid', 'right'}, optional\n",
            "        Controls how the histogram is plotted.\n",
            "    \n",
            "            - 'left': bars are centered on the left bin edges.\n",
            "    \n",
            "            - 'mid': bars are centered between the bin edges.\n",
            "    \n",
            "            - 'right': bars are centered on the right bin edges.\n",
            "    \n",
            "        Default is 'mid'\n",
            "    \n",
            "    orientation : {'horizontal', 'vertical'}, optional\n",
            "        If 'horizontal', `~matplotlib.pyplot.barh` will be used for\n",
            "        bar-type histograms and the *bottom* kwarg will be the left edges.\n",
            "    \n",
            "    rwidth : scalar or None, optional\n",
            "        The relative width of the bars as a fraction of the bin width.  If\n",
            "        ``None``, automatically compute the width.\n",
            "    \n",
            "        Ignored if *histtype* is 'step' or 'stepfilled'.\n",
            "    \n",
            "        Default is ``None``\n",
            "    \n",
            "    log : bool, optional\n",
            "        If ``True``, the histogram axis will be set to a log scale. If\n",
            "        *log* is ``True`` and *x* is a 1D array, empty bins will be\n",
            "        filtered out and only the non-empty ``(n, bins, patches)``\n",
            "        will be returned.\n",
            "    \n",
            "        Default is ``False``\n",
            "    \n",
            "    color : color or array_like of colors or None, optional\n",
            "        Color spec or sequence of color specs, one per dataset.  Default\n",
            "        (``None``) uses the standard line color sequence.\n",
            "    \n",
            "        Default is ``None``\n",
            "    \n",
            "    label : str or None, optional\n",
            "        String, or sequence of strings to match multiple datasets.  Bar\n",
            "        charts yield multiple patches per dataset, but only the first gets\n",
            "        the label, so that the legend command will work as expected.\n",
            "    \n",
            "        default is ``None``\n",
            "    \n",
            "    stacked : bool, optional\n",
            "        If ``True``, multiple data are stacked on top of each other If\n",
            "        ``False`` multiple data are arranged side by side if histtype is\n",
            "        'bar' or on top of each other if histtype is 'step'\n",
            "    \n",
            "        Default is ``False``\n",
            "    \n",
            "    normed : bool, optional\n",
            "        Deprecated; use the density keyword argument instead.\n",
            "    \n",
            "    Returns\n",
            "    -------\n",
            "    n : array or list of arrays\n",
            "        The values of the histogram bins. See *normed* or *density*\n",
            "        and *weights* for a description of the possible semantics.\n",
            "        If input *x* is an array, then this is an array of length\n",
            "        *nbins*. If input is a sequence of arrays\n",
            "        ``[data1, data2,..]``, then this is a list of arrays with\n",
            "        the values of the histograms for each of the arrays in the\n",
            "        same order.\n",
            "    \n",
            "    bins : array\n",
            "        The edges of the bins. Length nbins + 1 (nbins left edges and right\n",
            "        edge of last bin).  Always a single array even when multiple data\n",
            "        sets are passed in.\n",
            "    \n",
            "    patches : list or list of lists\n",
            "        Silent list of individual patches used to create the histogram\n",
            "        or list of such list if multiple input datasets.\n",
            "    \n",
            "    Other Parameters\n",
            "    ----------------\n",
            "    **kwargs : `~matplotlib.patches.Patch` properties\n",
            "    \n",
            "    See also\n",
            "    --------\n",
            "    hist2d : 2D histograms\n",
            "    \n",
            "    Notes\n",
            "    -----\n",
            "    .. [Notes section required for data comment. See #10189.]\n",
            "    \n",
            "    .. note::\n",
            "        In addition to the above described arguments, this function can take a\n",
            "        **data** keyword argument. If such a **data** argument is given, the\n",
            "        following arguments are replaced by **data[<arg>]**:\n",
            "    \n",
            "        * All arguments with the following names: 'weights', 'x'.\n",
            "    \n",
            "        Objects passed as **data** must support item access (``data[<arg>]``) and\n",
            "        membership test (``<arg> in data``).\n",
            "\n"
          ],
          "name": "stdout"
        }
      ]
    },
    {
      "metadata": {
        "id": "_ofVpcC2V0Up",
        "colab_type": "code",
        "colab": {},
        "outputId": "88abaed8-4cc2-4b94-992c-678b930be22c"
      },
      "cell_type": "code",
      "source": [
        "# plt.hist(data, bins=range(min(data), max(data) + binwidth, binwidth))\n",
        "plt.hist(list_count, bins=range(min(list_count), max(list_count) + 10, 10))\n",
        "plt.show()"
      ],
      "execution_count": 0,
      "outputs": [
        {
          "output_type": "display_data",
          "data": {
            "image/png": "[encoded data removed]",
            "text/plain": [
              "<Figure size 432x288 with 1 Axes>"
            ]
          },
          "metadata": {
            "tags": [],
            "needs_background": "light"
          }
        }
      ]
    },
    {
      "metadata": {
        "id": "PsdDrLM6V0Ut",
        "colab_type": "code",
        "colab": {},
        "outputId": "c2d023de-5bf2-42c0-ea6d-8048fe87afc1"
      },
      "cell_type": "code",
      "source": [
        "p"
      ],
      "execution_count": 0,
      "outputs": [
        {
          "output_type": "display_data",
          "data": {
            "image/png": "[encoded data removed]",
            "text/plain": [
              "<Figure size 432x288 with 1 Axes>"
            ]
          },
          "metadata": {
            "tags": [],
            "needs_background": "light"
          }
        }
      ]
    }
  ]
}